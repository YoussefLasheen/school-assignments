{
  "nbformat": 4,
  "nbformat_minor": 0,
  "metadata": {
    "colab": {
      "name": "SF/SSE Plot.ipynb",
      "provenance": [],
      "authorship_tag": "ABX9TyOTcbKTowSoKAssDRPpgn37",
      "include_colab_link": true
    },
    "kernelspec": {
      "name": "python3",
      "display_name": "Python 3"
    },
    "language_info": {
      "name": "python"
    }
  },
  "cells": [
    {
      "cell_type": "markdown",
      "metadata": {
        "id": "view-in-github",
        "colab_type": "text"
      },
      "source": [
        "<a href=\"https://colab.research.google.com/github/YoussefLasheen/school-assignments/blob/main/SF_SSE_Plot.ipynb\" target=\"_parent\"><img src=\"https://colab.research.google.com/assets/colab-badge.svg\" alt=\"Open In Colab\"/></a>"
      ]
    },
    {
      "cell_type": "code",
      "source": [
        "import numpy as np\n"
      ],
      "metadata": {
        "id": "3Oy1Od_T23FD"
      },
      "execution_count": null,
      "outputs": []
    },
    {
      "cell_type": "code",
      "execution_count": 85,
      "metadata": {
        "colab": {
          "base_uri": "https://localhost:8080/"
        },
        "id": "iXuJJAVm1tRj",
        "outputId": "d1d9c355-12a5-4c65-94c8-de7bc5a754da"
      },
      "outputs": [
        {
          "output_type": "stream",
          "name": "stdout",
          "text": [
            "[0.28431373 0.92792793 0.28881988 0.27642276 0.2008547  0.27472527\n",
            " 0.23465704 0.28406467 0.1965812  0.2057971  0.14529915 0.20945946]\n"
          ]
        }
      ],
      "source": [
        "income = np.array([102,\t222,\t322,\t123,\t234,\t455,\t554,\t433,\t234,\t345,\t234,\t444])\n",
        "consumption = np.array([73,\t16,\t229,\t89,\t187,\t330,\t424,\t310,\t188,\t274,\t200,\t351])\n",
        "sf = np.array([])\n",
        "\n",
        "for i in range(12):\n",
        "  sf = np.append(sf, (income[i]-consumption[i])/income[i])\n",
        "\n",
        "print(sf)"
      ]
    },
    {
      "cell_type": "code",
      "source": [
        "sse = np.array([])\n",
        "for m in range(100):\n",
        "  predicted_value = m*(10**-2)\n",
        "  summation = 0\n",
        "  for i in sf:\n",
        "    difference = predicted_value - i\n",
        "    squared_difference = difference**2\n",
        "    summation = summation + squared_difference\n",
        "  sse = np.append(sse, summation)\n",
        "\n",
        "print(sse)"
      ],
      "metadata": {
        "colab": {
          "base_uri": "https://localhost:8080/"
        },
        "id": "Mipy-ZHV2G31",
        "outputId": "d6700d6d-f91a-428b-de77-52b06fe521bf"
      },
      "execution_count": 93,
      "outputs": [
        {
          "output_type": "stream",
          "name": "stdout",
          "text": [
            "0.08083429450211456\n",
            "0.9418845339307322\n",
            "1.0253014545742258\n",
            "1.1017109991574765\n",
            "1.142053610012908\n",
            "1.2175275865857857\n",
            "1.2725915128718053\n",
            "1.3532842468455317\n",
            "1.3919284136948267\n",
            "1.43428086065975\n",
            "1.455392702284412\n",
            "1.499265967441461\n",
            "[1.49926597]\n"
          ]
        }
      ]
    },
    {
      "cell_type": "code",
      "source": [
        "import matplotlib.pyplot as plt\n"
      ],
      "metadata": {
        "id": "9y3qKcA_-0WC"
      },
      "execution_count": null,
      "outputs": []
    },
    {
      "cell_type": "code",
      "source": [
        "plt.xlabel(\"SF\")\n",
        "plt.ylabel(\"SSE\")\n",
        "x=np.arange(0.0, 1.0, 0.01)\n",
        "plt.plot(x,sse)\n",
        "plt.show()"
      ],
      "metadata": {
        "colab": {
          "base_uri": "https://localhost:8080/",
          "height": 279
        },
        "id": "lpbLrQ6H-4YM",
        "outputId": "4171961f-5373-4dac-ddea-bdbfbde1945e"
      },
      "execution_count": 91,
      "outputs": [
        {
          "output_type": "display_data",
          "data": {
            "text/plain": [
              "<Figure size 432x288 with 1 Axes>"
            ],
            "image/png": "[encoded data removed]"
          },
          "metadata": {
            "needs_background": "light"
          }
        }
      ]
    }
  ]
}